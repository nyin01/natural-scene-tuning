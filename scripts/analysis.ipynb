{
 "cells": [
  {
   "cell_type": "code",
   "execution_count": 14,
   "metadata": {},
   "outputs": [],
   "source": [
    "import os\n",
    "import numpy as np\n",
    "import cv2"
   ]
  },
  {
   "cell_type": "code",
   "execution_count": 15,
   "metadata": {},
   "outputs": [],
   "source": [
    "img_dir = '../images/'"
   ]
  },
  {
   "cell_type": "code",
   "execution_count": 22,
   "metadata": {},
   "outputs": [],
   "source": [
    "all_image_names = [0, 1, 2, 3]\n",
    "ext_dict = {\n",
    "    'og': 'original/',\n",
    "    'all': 'all_edges/',\n",
    "    'o1': '0/',\n",
    "    'o2': '30/',\n",
    "    'o3': '60/',\n",
    "    'o4': '90/',\n",
    "    'o5': '120/',\n",
    "    'o6': '150/'\n",
    "}\n",
    "orientation_angle_dict = {\n",
    "    'o1': 0,  # 0 degrees\n",
    "    'o2': np.pi / 6,  # 30 degrees\n",
    "    'o3': np.pi / 3,  # 60 degrees\n",
    "    'o4': np.pi / 2,  # 90 degrees\n",
    "    'o5': 2 * np.pi / 3,  # 120 degrees\n",
    "    'o6': 5 * np.pi / 6  # 150 degrees\n",
    "}\n",
    "orientations = ['o1', 'o2', 'o3', 'o4', 'o5', 'o6']"
   ]
  },
  {
   "cell_type": "code",
   "execution_count": 23,
   "metadata": {},
   "outputs": [],
   "source": [
    "def sum_intensity(img_path):\n",
    "    img = cv2.imread(img_path)\n",
    "    img = cv2.cvtColor(img, cv2.COLOR_BGR2GRAY)\n",
    "    img = img.flatten()\n",
    "    img = np.array(img)\n",
    "    img = img.astype('float32')\n",
    "    img /= 255\n",
    "    return img.mean()"
   ]
  },
  {
   "cell_type": "code",
   "execution_count": 24,
   "metadata": {},
   "outputs": [],
   "source": [
    "# Dict that maps each image to each orientation to each score\n",
    "edge_scores_dict = {}\n",
    "# For each image...\n",
    "for img in all_image_names:\n",
    "    # Initialize the edge score dict\n",
    "    edge_scores_dict[img] = {}\n",
    "    # Get path to output with all edges\n",
    "    all_edges_path = img_dir + ext_dict['all'] + str(img) + '.png'\n",
    "    # Populate edge score for all edges as baseline\n",
    "    all_edges_score = sum_intensity(all_edges_path)\n",
    "    edge_scores_dict[img]['all'] = all_edges_score\n",
    "    # For each orientation...\n",
    "    for orientation in orientations:\n",
    "        # Get path to output with edges in this orientation\n",
    "        curr_orientation_path = img_dir + ext_dict[orientation] + str(img) + '.png'\n",
    "        # Compute score for this orientation\n",
    "        curr_orientation_score = sum_intensity(curr_orientation_path)\n",
    "        # Store in dict\n",
    "        edge_scores_dict[img][orientation] = curr_orientation_score"
   ]
  },
  {
   "cell_type": "code",
   "execution_count": 25,
   "metadata": {},
   "outputs": [
    {
     "data": {
      "text/plain": [
       "{0: {'all': 0.012196147,\n",
       "  'o1': 0.0034286813,\n",
       "  'o2': 0.00046810083,\n",
       "  'o3': 0.000307093,\n",
       "  'o4': 0.0016536682,\n",
       "  'o5': 0.0006499218,\n",
       "  'o6': 0.00074259954},\n",
       " 1: {'all': 0.027057035,\n",
       "  'o1': 0.0009855906,\n",
       "  'o2': 0.001147085,\n",
       "  'o3': 0.0020558864,\n",
       "  'o4': 0.004261789,\n",
       "  'o5': 0.0028898783,\n",
       "  'o6': 0.0016786705},\n",
       " 2: {'all': 0.028184367,\n",
       "  'o1': 0.0019115555,\n",
       "  'o2': 0.0006706499,\n",
       "  'o3': 0.0010421494,\n",
       "  'o4': 0.009057432,\n",
       "  'o5': 0.001370971,\n",
       "  'o6': 0.0007551925},\n",
       " 3: {'all': 0.022974735,\n",
       "  'o1': 0.0015878179,\n",
       "  'o2': 0.0012736968,\n",
       "  'o3': 0.0014647513,\n",
       "  'o4': 0.0021179512,\n",
       "  'o5': 0.002080945,\n",
       "  'o6': 0.0016566664}}"
      ]
     },
     "execution_count": 25,
     "metadata": {},
     "output_type": "execute_result"
    }
   ],
   "source": [
    "edge_scores_dict"
   ]
  },
  {
   "cell_type": "code",
   "execution_count": 28,
   "metadata": {},
   "outputs": [],
   "source": [
    "# Normalize edge_scroes_dict \n",
    "normalized_edge_scores_dict = {}\n",
    "# For each image...\n",
    "for img in all_image_names:\n",
    "    # Initialize the edge score dict\n",
    "    normalized_edge_scores_dict[img] = {}\n",
    "    # Get score for all edges\n",
    "    all_edges_score = edge_scores_dict[img]['all']\n",
    "    # For each orientation...\n",
    "    for orientation in orientations:\n",
    "        # Get score for this orientation\n",
    "        curr_orientation_score = edge_scores_dict[img][orientation]\n",
    "        # Normalize by all edges score\n",
    "        normalized_edge_scores_dict[img][orientation] = curr_orientation_score / all_edges_score"
   ]
  },
  {
   "cell_type": "code",
   "execution_count": 29,
   "metadata": {},
   "outputs": [
    {
     "data": {
      "text/plain": [
       "{0: {'o1': 0.28112823,\n",
       "  'o2': 0.038381044,\n",
       "  'o3': 0.02517951,\n",
       "  'o4': 0.1355894,\n",
       "  'o5': 0.05328911,\n",
       "  'o6': 0.060888045},\n",
       " 1: {'o1': 0.03642641,\n",
       "  'o2': 0.042395074,\n",
       "  'o3': 0.075983435,\n",
       "  'o4': 0.15751131,\n",
       "  'o5': 0.10680691,\n",
       "  'o6': 0.062041923},\n",
       " 2: {'o1': 0.06782325,\n",
       "  'o2': 0.023795104,\n",
       "  'o3': 0.03697615,\n",
       "  'o4': 0.3213637,\n",
       "  'o5': 0.048642956,\n",
       "  'o6': 0.026794728},\n",
       " 3: {'o1': 0.06911148,\n",
       "  'o2': 0.055439018,\n",
       "  'o3': 0.06375487,\n",
       "  'o4': 0.0921861,\n",
       "  'o5': 0.09057537,\n",
       "  'o6': 0.07210818}}"
      ]
     },
     "execution_count": 29,
     "metadata": {},
     "output_type": "execute_result"
    }
   ],
   "source": [
    "normalized_edge_scores_dict"
   ]
  },
  {
   "cell_type": "code",
   "execution_count": null,
   "metadata": {},
   "outputs": [],
   "source": []
  }
 ],
 "metadata": {
  "kernelspec": {
   "display_name": "base",
   "language": "python",
   "name": "python3"
  },
  "language_info": {
   "codemirror_mode": {
    "name": "ipython",
    "version": 3
   },
   "file_extension": ".py",
   "mimetype": "text/x-python",
   "name": "python",
   "nbconvert_exporter": "python",
   "pygments_lexer": "ipython3",
   "version": "3.10.11"
  }
 },
 "nbformat": 4,
 "nbformat_minor": 2
}
