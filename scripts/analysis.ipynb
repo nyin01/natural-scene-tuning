{
 "cells": [
  {
   "cell_type": "code",
   "execution_count": 3,
   "id": "c40c97e6-9476-4a32-a896-bee6e862c5e8",
   "metadata": {},
   "outputs": [],
   "source": [
    "import numpy as np\n",
    "import pandas as pd\n",
    "import csv\n",
    "import statistics\n",
    "import matplotlib.pyplot as plt"
   ]
  },
  {
   "cell_type": "markdown",
   "id": "7859bdb4-43f0-48fe-8fb9-5ff7fea73151",
   "metadata": {},
   "source": [
    "**READ IN CSVs PRODUCED BY two_photon & edgescore scripts**"
   ]
  },
  {
   "cell_type": "code",
   "execution_count": 15,
   "id": "9e39e040-0cce-4a54-917e-879a52d4e2e3",
   "metadata": {},
   "outputs": [],
   "source": [
    "max_dff_ordered=pd.read_csv('max_dff_subset_ordered.csv')\n",
    "mean_dff_ordered=pd.read_csv('mean_dff_subset_ordered.csv')\n",
    "ns_stim_exp=pd.read_csv('ns_stim_frame_presentation.csv')\n",
    "pref_ori_ordered=pd.read_csv('pref_ori_ordered_subset.csv')\n",
    "edge_scores=pd.read_csv('edge_scores.csv')"
   ]
  },
  {
   "cell_type": "markdown",
   "id": "a7daec9e-f2e0-4237-a139-1d5003136e80",
   "metadata": {},
   "source": [
    "**FIND AVERAGE DFF FOR EACH IMAGE FOR EACH CELL (AVERAGING ACROSS THE 50 REPLICATES OF EACH STIM PRESENTATION)**"
   ]
  },
  {
   "cell_type": "code",
   "execution_count": 9,
   "id": "e75e79e2-e7dc-4bde-aeb8-da21279c5695",
   "metadata": {},
   "outputs": [],
   "source": [
    "# adjust frame numbers by adding 1 to account for the -1 to 117 frame range to make indexing easier\n",
    "list_ns_stim_exp=list(ns_stim_exp.frame)\n",
    "list_ns_stim_exp_adjusted=[int(i + 1) for i in list_ns_stim_exp]"
   ]
  },
  {
   "cell_type": "code",
   "execution_count": 10,
   "id": "8f2b5d39-3005-40d6-be27-ed557f312af8",
   "metadata": {},
   "outputs": [],
   "source": [
    "# transpose dff dataframes to prepare to associate with each natural scene frame\n",
    "max_dff_ordered_t=max_dff_ordered.T\n",
    "mean_dff_ordered_t=mean_dff_ordered.T"
   ]
  },
  {
   "cell_type": "code",
   "execution_count": 12,
   "id": "340c5e91-050c-46f3-a92c-3c220aa2a50d",
   "metadata": {},
   "outputs": [],
   "source": [
    "# produce a list of lists for the average MAX dff of each cell for each image (averaging across each 50 replicate)\n",
    "\n",
    "avg_max_dff_stim_all=[] # a list of lists: 80 lists (one for each cell), len 119 each list (avg max dff for each stim)\n",
    "\n",
    "for j in range(len(max_dff_ordered)): # for each cell\n",
    "    \n",
    "    img_max_dff_i=[[]for _ in range(len(edge_scores))] # empty list of 119 lists for each image\n",
    "    \n",
    "    for i in range(1, len(max_dff_ordered_t)-1): # adding max dff scores, sorted into each list by frame number\n",
    "        frame=list_ns_stim_exp_adjusted[i]\n",
    "        max_dff=max_dff_ordered_t[j][i+1]\n",
    "        img_max_dff_i[frame].append(max_dff)\n",
    "\n",
    "    avg_max_dff_i=[]\n",
    "    \n",
    "    for k in range(len(img_max_dff_i)):\n",
    "        avg_max_dff=statistics.mean(img_max_dff_i[k])\n",
    "        avg_max_dff_i.append(avg_max_dff) # list to be 119 long, averages of img_max_dff_i\n",
    "\n",
    "    avg_max_dff_stim_all.append(avg_max_dff_i)"
   ]
  },
  {
   "cell_type": "code",
   "execution_count": 13,
   "id": "5159d937-2c63-4b36-a87d-e141dda2e7ff",
   "metadata": {},
   "outputs": [],
   "source": [
    "# produce a list of lists for the average MEAN dff of each cell for each image (averaging across each 50 replicate)\n",
    "\n",
    "avg_mean_dff_stim_all=[] # a list of lists: 80 lists (one for each cell), len 119 each list (avg mean dff for each stim)\n",
    "\n",
    "for j in range(len(mean_dff_ordered)): # for each cell\n",
    "    \n",
    "    img_mean_dff_i=[[]for _ in range(len(edge_scores))] # empty list of 119 lists for each image\n",
    "    \n",
    "    for i in range(1, len(mean_dff_ordered_t)-1): # adding mean dff scores, sorted into each list by frame number\n",
    "        frame=list_ns_stim_exp_adjusted[i]\n",
    "        mean_dff=mean_dff_ordered_t[j][i+1]\n",
    "        img_mean_dff_i[frame].append(mean_dff)\n",
    "\n",
    "    avg_mean_dff_i=[]\n",
    "    \n",
    "    for k in range(len(img_mean_dff_i)):\n",
    "        avg_mean_dff=statistics.mean(img_mean_dff_i[k])\n",
    "        avg_mean_dff_i.append(avg_mean_dff) # list to be 119 long, averages of img_mean_dff_i\n",
    "\n",
    "    avg_mean_dff_stim_all.append(avg_mean_dff_i)"
   ]
  },
  {
   "cell_type": "code",
   "execution_count": 17,
   "id": "b00f50cd-7056-4502-a164-32840be704ba",
   "metadata": {},
   "outputs": [
    {
     "data": {
      "text/html": [
       "<div>\n",
       "<style scoped>\n",
       "    .dataframe tbody tr th:only-of-type {\n",
       "        vertical-align: middle;\n",
       "    }\n",
       "\n",
       "    .dataframe tbody tr th {\n",
       "        vertical-align: top;\n",
       "    }\n",
       "\n",
       "    .dataframe thead th {\n",
       "        text-align: right;\n",
       "    }\n",
       "</style>\n",
       "<table border=\"1\" class=\"dataframe\">\n",
       "  <thead>\n",
       "    <tr style=\"text-align: right;\">\n",
       "      <th></th>\n",
       "      <th>cell_specimen_id</th>\n",
       "      <th>pref_ori</th>\n",
       "    </tr>\n",
       "  </thead>\n",
       "  <tbody>\n",
       "    <tr>\n",
       "      <th>0</th>\n",
       "      <td>662199605</td>\n",
       "      <td>90</td>\n",
       "    </tr>\n",
       "    <tr>\n",
       "      <th>1</th>\n",
       "      <td>662199626</td>\n",
       "      <td>90</td>\n",
       "    </tr>\n",
       "    <tr>\n",
       "      <th>2</th>\n",
       "      <td>662199683</td>\n",
       "      <td>120</td>\n",
       "    </tr>\n",
       "    <tr>\n",
       "      <th>3</th>\n",
       "      <td>662199697</td>\n",
       "      <td>0</td>\n",
       "    </tr>\n",
       "    <tr>\n",
       "      <th>4</th>\n",
       "      <td>662199710</td>\n",
       "      <td>0</td>\n",
       "    </tr>\n",
       "    <tr>\n",
       "      <th>...</th>\n",
       "      <td>...</td>\n",
       "      <td>...</td>\n",
       "    </tr>\n",
       "    <tr>\n",
       "      <th>117</th>\n",
       "      <td>662203014</td>\n",
       "      <td>90</td>\n",
       "    </tr>\n",
       "    <tr>\n",
       "      <th>118</th>\n",
       "      <td>662203030</td>\n",
       "      <td>60</td>\n",
       "    </tr>\n",
       "    <tr>\n",
       "      <th>119</th>\n",
       "      <td>662203048</td>\n",
       "      <td>60</td>\n",
       "    </tr>\n",
       "    <tr>\n",
       "      <th>120</th>\n",
       "      <td>662203077</td>\n",
       "      <td>90</td>\n",
       "    </tr>\n",
       "    <tr>\n",
       "      <th>121</th>\n",
       "      <td>662203089</td>\n",
       "      <td>120</td>\n",
       "    </tr>\n",
       "  </tbody>\n",
       "</table>\n",
       "<p>122 rows × 2 columns</p>\n",
       "</div>"
      ],
      "text/plain": [
       "     cell_specimen_id  pref_ori\n",
       "0           662199605        90\n",
       "1           662199626        90\n",
       "2           662199683       120\n",
       "3           662199697         0\n",
       "4           662199710         0\n",
       "..                ...       ...\n",
       "117         662203014        90\n",
       "118         662203030        60\n",
       "119         662203048        60\n",
       "120         662203077        90\n",
       "121         662203089       120\n",
       "\n",
       "[122 rows x 2 columns]"
      ]
     },
     "execution_count": 17,
     "metadata": {},
     "output_type": "execute_result"
    }
   ],
   "source": [
    "pref_ori_ordered"
   ]
  },
  {
   "cell_type": "markdown",
   "id": "3e3e720c-f07e-4843-a187-2c41963709b0",
   "metadata": {},
   "source": [
    "**SUBSET pref_ori_ordered BY PREFERRED DEGREE**"
   ]
  },
  {
   "cell_type": "code",
   "execution_count": 25,
   "id": "6f77a50b-4b47-494e-a57b-a7af4c518f93",
   "metadata": {},
   "outputs": [],
   "source": [
    "cell_pref_0=[]\n",
    "cell_pref_30=[]\n",
    "cell_pref_60=[]\n",
    "cell_pref_90=[]\n",
    "cell_pref_120=[]\n",
    "cell_pref_150=[]\n",
    "\n",
    "def subset_pref_ori (list_cell_pref, degree):\n",
    "    for i in range(len(pref_ori_ordered)):\n",
    "        if pref_ori_ordered.loc[i]['pref_ori'] == degree:\n",
    "            list_cell_pref.append(pref_ori_ordered.loc[i]['cell_specimen_id'])\n",
    "\n",
    "subset_pref_ori(cell_pref_0, 0)\n",
    "subset_pref_ori(cell_pref_30, 30)\n",
    "subset_pref_ori(cell_pref_60, 60)\n",
    "subset_pref_ori(cell_pref_90, 90)\n",
    "subset_pref_ori(cell_pref_120, 120)"
   ]
  },
  {
   "cell_type": "code",
   "execution_count": 28,
   "id": "a07e420e-5c79-44ed-b8b9-c03dea68389e",
   "metadata": {},
   "outputs": [
    {
     "data": {
      "text/plain": [
       "False"
      ]
     },
     "execution_count": 28,
     "metadata": {},
     "output_type": "execute_result"
    }
   ],
   "source": [
    "False in max_dff_ordered['cell_specimen_id']==pref_ori_ordered['cell_specimen_id']\n",
    "# the cell IDs and indexes align, which is why I can do this:"
   ]
  },
  {
   "cell_type": "markdown",
   "id": "5361c4c9-66fa-4035-be81-513aaefdf778",
   "metadata": {},
   "source": [
    "**AVERAGE THE DFF ACROSS CELLS WITH A PREFERRED ORIENTATION FOR EACH IMAGE**"
   ]
  },
  {
   "cell_type": "code",
   "execution_count": 29,
   "id": "b1f5b85d-aa63-4a66-bde5-063971bfce33",
   "metadata": {},
   "outputs": [],
   "source": [
    "def pref_ori_avg_dff(cell_pref, cell_pref_max, cell_pref_mean):\n",
    "    for i in range(len(cell_pref)):\n",
    "        cell_index=pref_ori_ordered.index[pref_ori_ordered['cell_specimen_id']==cell_pref[i]][0]\n",
    "        cell_pref_max.append(avg_max_dff_stim_all[cell_index])\n",
    "        cell_pref_mean.append(avg_mean_dff_stim_all[cell_index])\n",
    "\n",
    "def avg_pref_ori(cell_pref_max, cell_pref_mean, mean_cells_max, mean_cells_mean):\n",
    "    # transpose inputs\n",
    "    cell_pref_max_t=list(map(list, zip(*cell_pref_max)))\n",
    "    cell_pref_mean_t=list(map(list, zip(*cell_pref_mean)))\n",
    "    for i in range(len(cell_pref_max_t)):\n",
    "        avg_max_activity=statistics.mean(cell_pref_max_t[i])\n",
    "        avg_mean_activity=statistics.mean(cell_pref_mean_t[i])\n",
    "        mean_cells_max.append(avg_max_activity)\n",
    "        mean_cells_mean.append(avg_mean_activity)"
   ]
  },
  {
   "cell_type": "code",
   "execution_count": 31,
   "id": "22d99828-2e7a-43b9-993f-6101d5cd4731",
   "metadata": {},
   "outputs": [],
   "source": [
    "# make empty lists\n",
    "pref_0_avg_max_dff=[] # list of lists: len 1 is number cells, len 2 is number images\n",
    "pref_0_avg_mean_dff=[] # same vibe here\n",
    "\n",
    "mean_cells_0_avg_max=[] # mean activity across cells for each img\n",
    "mean_cells_0_avg_mean=[] # same vibe here\n",
    "\n",
    "pref_30_avg_max_dff=[] # list of lists: len 1 is number cells, len 2 is number images\n",
    "pref_30_avg_mean_dff=[] # same vibe here\n",
    "\n",
    "mean_cells_30_avg_max=[] # mean activity across cells for each img\n",
    "mean_cells_30_avg_mean=[] # same vibe here\n",
    "\n",
    "pref_60_avg_max_dff=[] # list of lists: len 1 is number cells, len 2 is number images\n",
    "pref_60_avg_mean_dff=[] # same vibe here\n",
    "\n",
    "mean_cells_60_avg_max=[] # mean activity across cells for each img\n",
    "mean_cells_60_avg_mean=[] # same vibe here\n",
    "\n",
    "pref_90_avg_max_dff=[] # list of lists: len 1 is number cells, len 2 is number images\n",
    "pref_90_avg_mean_dff=[] # same vibe here\n",
    "\n",
    "mean_cells_90_avg_max=[] # mean activity across cells for each img\n",
    "mean_cells_90_avg_mean=[] # same vibe here\n",
    "\n",
    "pref_120_avg_max_dff=[] # list of lists: len 1 is number cells, len 2 is number images\n",
    "pref_120_avg_mean_dff=[] # same vibe here\n",
    "\n",
    "mean_cells_120_avg_max=[] # mean activity across cells for each img\n",
    "mean_cells_120_avg_mean=[] # same vibe here\n",
    "\n",
    "pref_150_avg_max_dff=[] # list of lists: len 1 is number cells, len 2 is number images\n",
    "pref_150_avg_mean_dff=[] # same vibe here\n",
    "\n",
    "mean_cells_150_avg_max=[] # mean activity across cells for each img\n",
    "mean_cells_150_avg_mean=[] # same vibe here"
   ]
  },
  {
   "cell_type": "code",
   "execution_count": 32,
   "id": "7df50355-92e0-49a4-8fd2-9129fbac096c",
   "metadata": {},
   "outputs": [
    {
     "ename": "IndexError",
     "evalue": "list index out of range",
     "output_type": "error",
     "traceback": [
      "\u001b[0;31m---------------------------------------------------------------------------\u001b[0m",
      "\u001b[0;31mIndexError\u001b[0m                                Traceback (most recent call last)",
      "Cell \u001b[0;32mIn[32], line 4\u001b[0m\n\u001b[1;32m      1\u001b[0m \u001b[38;5;66;03m# now do it\u001b[39;00m\n\u001b[1;32m      2\u001b[0m \n\u001b[1;32m      3\u001b[0m \u001b[38;5;66;03m# 0\u001b[39;00m\n\u001b[0;32m----> 4\u001b[0m \u001b[43mpref_ori_avg_dff\u001b[49m\u001b[43m(\u001b[49m\u001b[43mcell_pref_0\u001b[49m\u001b[43m,\u001b[49m\u001b[43m \u001b[49m\u001b[43mpref_0_avg_max_dff\u001b[49m\u001b[43m,\u001b[49m\u001b[43m \u001b[49m\u001b[43mpref_0_avg_mean_dff\u001b[49m\u001b[43m)\u001b[49m\n\u001b[1;32m      5\u001b[0m avg_pref_ori(pref_0_avg_max_dff, pref_0_avg_mean_dff, mean_cells_0_avg_max, mean_cells_0_avg_mean)\n\u001b[1;32m      7\u001b[0m \u001b[38;5;66;03m# 30\u001b[39;00m\n",
      "Cell \u001b[0;32mIn[29], line 4\u001b[0m, in \u001b[0;36mpref_ori_avg_dff\u001b[0;34m(cell_pref, cell_pref_max, cell_pref_mean)\u001b[0m\n\u001b[1;32m      2\u001b[0m \u001b[38;5;28;01mfor\u001b[39;00m i \u001b[38;5;129;01min\u001b[39;00m \u001b[38;5;28mrange\u001b[39m(\u001b[38;5;28mlen\u001b[39m(cell_pref)):\n\u001b[1;32m      3\u001b[0m     cell_index\u001b[38;5;241m=\u001b[39mpref_ori_ordered\u001b[38;5;241m.\u001b[39mindex[pref_ori_ordered[\u001b[38;5;124m'\u001b[39m\u001b[38;5;124mcell_specimen_id\u001b[39m\u001b[38;5;124m'\u001b[39m]\u001b[38;5;241m==\u001b[39mcell_pref[i]][\u001b[38;5;241m0\u001b[39m]\n\u001b[0;32m----> 4\u001b[0m     cell_pref_max\u001b[38;5;241m.\u001b[39mappend(\u001b[43mavg_max_dff_stim_all\u001b[49m\u001b[43m[\u001b[49m\u001b[43mcell_index\u001b[49m\u001b[43m]\u001b[49m)\n\u001b[1;32m      5\u001b[0m     cell_pref_mean\u001b[38;5;241m.\u001b[39mappend(avg_mean_dff_stim_all[cell_index])\n",
      "\u001b[0;31mIndexError\u001b[0m: list index out of range"
     ]
    }
   ],
   "source": [
    "# now do it\n",
    "\n",
    "# 0\n",
    "pref_ori_avg_dff(cell_pref_0, pref_0_avg_max_dff, pref_0_avg_mean_dff)\n",
    "avg_pref_ori(pref_0_avg_max_dff, pref_0_avg_mean_dff, mean_cells_0_avg_max, mean_cells_0_avg_mean)\n",
    "\n",
    "# 30\n",
    "pref_ori_avg_dff(cell_pref_30, pref_30_avg_max_dff, pref_30_avg_mean_dff)\n",
    "avg_pref_ori(pref_30_avg_max_dff, pref_30_avg_mean_dff, mean_cells_30_avg_max, mean_cells_30_avg_mean)\n",
    "\n",
    "# 60\n",
    "pref_ori_avg_dff(cell_pref_60, pref_60_avg_max_dff, pref_60_avg_mean_dff)\n",
    "avg_pref_ori(pref_60_avg_max_dff, pref_60_avg_mean_dff, mean_cells_60_avg_max, mean_cells_60_avg_mean)\n",
    "\n",
    "# 90\n",
    "pref_ori_avg_dff(cell_pref_90, pref_90_avg_max_dff, pref_90_avg_mean_dff)\n",
    "avg_pref_ori(pref_90_avg_max_dff, pref_90_avg_mean_dff, mean_cells_90_avg_max, mean_cells_90_avg_mean)\n",
    "\n",
    "# 120\n",
    "pref_ori_avg_dff(cell_pref_120, pref_120_avg_max_dff, pref_120_avg_mean_dff)\n",
    "avg_pref_ori(pref_120_avg_max_dff, pref_120_avg_mean_dff, mean_cells_120_avg_max, mean_cells_120_avg_mean)\n",
    "\n",
    "# 150\n",
    "pref_ori_avg_dff(cell_pref_150, pref_150_avg_max_dff, pref_150_avg_mean_dff)\n",
    "avg_pref_ori(pref_150_avg_max_dff, pref_150_avg_mean_dff, mean_cells_150_avg_max, mean_cells_150_avg_mean)"
   ]
  },
  {
   "cell_type": "code",
   "execution_count": 14,
   "id": "b54616bb-7392-4eec-a17b-5d75f8386bda",
   "metadata": {},
   "outputs": [],
   "source": [
    "# ok so now we have: mean neural activity for each image type subsetted by cell preferred orientation\n",
    "# orientation in this case I centered around 0, 30, 60, 90, 120, 150, +/- 15 degrees\n",
    "# next step, make a dataframe where we have these activity values for each preferred orientation and each edge score: should be easy"
   ]
  },
  {
   "cell_type": "code",
   "execution_count": 15,
   "id": "9f660bd2-d5b1-4549-81e0-e7d8b514c554",
   "metadata": {},
   "outputs": [],
   "source": [
    "activity_w_edge_scores=edge_scores.copy(True)\n",
    "\n",
    "activity_w_edge_scores['max_dff_0']=mean_cells_0_avg_max\n",
    "activity_w_edge_scores['mean_dff_0']=mean_cells_0_avg_mean\n",
    "\n",
    "activity_w_edge_scores['max_dff_30']=mean_cells_30_avg_max\n",
    "activity_w_edge_scores['mean_dff_30']=mean_cells_30_avg_mean\n",
    "\n",
    "# activity_w_edge_scores['max_dff_60']=mean_cells_60_avg_max\n",
    "# activity_w_edge_scores['mean_dff_60']=mean_cells_60_avg_mean\n",
    "\n",
    "activity_w_edge_scores['max_dff_90']=mean_cells_90_avg_max\n",
    "activity_w_edge_scores['mean_dff_90']=mean_cells_90_avg_mean\n",
    "\n",
    "activity_w_edge_scores['max_dff_120']=mean_cells_120_avg_max\n",
    "activity_w_edge_scores['mean_dff_120']=mean_cells_120_avg_mean\n",
    "\n",
    "# activity_w_edge_scores['max_dff_150']=mean_cells_150_avg_max\n",
    "# activity_w_edge_scores['mean_dff_150']=mean_cells_150_avg_mean\n",
    "\n"
   ]
  },
  {
   "cell_type": "code",
   "execution_count": 16,
   "id": "4d8192e0-be58-4bdb-993d-84e4473240e1",
   "metadata": {},
   "outputs": [],
   "source": [
    "activity_edge_30=list(zip(list(activity_w_edge_scores['30']), list(activity_w_edge_scores['max_dff_30'])))\n",
    "activity_edge_30.sort(key=lambda x: x[0])"
   ]
  },
  {
   "cell_type": "code",
   "execution_count": null,
   "id": "71a229d9-7baf-40a4-be0a-e6016607b4e5",
   "metadata": {},
   "outputs": [],
   "source": []
  },
  {
   "cell_type": "code",
   "execution_count": 17,
   "id": "9c86ef53-03cf-4146-a71f-a436e71eda52",
   "metadata": {},
   "outputs": [
    {
     "data": {
      "text/plain": [
       "<matplotlib.collections.PathCollection at 0x11fc23f50>"
      ]
     },
     "execution_count": 17,
     "metadata": {},
     "output_type": "execute_result"
    },
    {
     "data": {
      "image/png": "[encoded data removed]",
      "text/plain": [
       "<Figure size 640x480 with 1 Axes>"
      ]
     },
     "metadata": {},
     "output_type": "display_data"
    }
   ],
   "source": [
    "edge_score_30, activity_30 =list(zip(*activity_edge_30))\n",
    "\n",
    "plt.scatter(edge_score_30, activity_30, marker=\"o\", s=20)"
   ]
  },
  {
   "cell_type": "code",
   "execution_count": 18,
   "id": "9d97140c-0b9f-416e-b556-153043cd8ce8",
   "metadata": {},
   "outputs": [],
   "source": [
    "activity_edge_90=list(zip(list(activity_w_edge_scores['90']), list(activity_w_edge_scores['max_dff_90'])))\n",
    "activity_edge_90.sort(key=lambda x: x[0])"
   ]
  },
  {
   "cell_type": "code",
   "execution_count": 19,
   "id": "96510bd2-e4a9-4fa4-afbe-f8a399fc35b3",
   "metadata": {},
   "outputs": [
    {
     "data": {
      "text/plain": [
       "<matplotlib.collections.PathCollection at 0x11f7e2d10>"
      ]
     },
     "execution_count": 19,
     "metadata": {},
     "output_type": "execute_result"
    },
    {
     "data": {
      "image/png": "[encoded data removed]",
      "text/plain": [
       "<Figure size 640x480 with 1 Axes>"
      ]
     },
     "metadata": {},
     "output_type": "display_data"
    }
   ],
   "source": [
    "edge_score_90, activity_90 =list(zip(*activity_edge_90))\n",
    "\n",
    "plt.scatter(edge_score_90, activity_90, marker=\"o\", s=20)"
   ]
  },
  {
   "cell_type": "code",
   "execution_count": 20,
   "id": "36701781-cd41-480d-aa43-62ca19994ac4",
   "metadata": {},
   "outputs": [],
   "source": [
    "activity_edge_120=list(zip(list(activity_w_edge_scores['120']), list(activity_w_edge_scores['max_dff_120'])))\n",
    "activity_edge_120.sort(key=lambda x: x[0])"
   ]
  },
  {
   "cell_type": "code",
   "execution_count": 21,
   "id": "7fd7c786-99da-4570-ac25-33b1606f9b3e",
   "metadata": {},
   "outputs": [
    {
     "data": {
      "text/plain": [
       "<matplotlib.collections.PathCollection at 0x11ff23b10>"
      ]
     },
     "execution_count": 21,
     "metadata": {},
     "output_type": "execute_result"
    },
    {
     "data": {
      "image/png": "[encoded data removed]",
      "text/plain": [
       "<Figure size 640x480 with 1 Axes>"
      ]
     },
     "metadata": {},
     "output_type": "display_data"
    }
   ],
   "source": [
    "edge_score_120, activity_120 =list(zip(*activity_edge_120))\n",
    "\n",
    "plt.scatter(edge_score_120, activity_120, marker=\"o\", s=20)"
   ]
  }
 ],
 "metadata": {
  "kernelspec": {
   "display_name": "Python 3 (ipykernel)",
   "language": "python",
   "name": "python3"
  },
  "language_info": {
   "codemirror_mode": {
    "name": "ipython",
    "version": 3
   },
   "file_extension": ".py",
   "mimetype": "text/x-python",
   "name": "python",
   "nbconvert_exporter": "python",
   "pygments_lexer": "ipython3",
   "version": "3.11.6"
  }
 },
 "nbformat": 4,
 "nbformat_minor": 5
}
