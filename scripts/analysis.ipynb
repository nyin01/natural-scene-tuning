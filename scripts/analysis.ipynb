{
 "cells": [
  {
   "cell_type": "code",
   "execution_count": 11,
   "metadata": {},
   "outputs": [],
   "source": [
    "import os\n",
    "import numpy as np\n",
    "import cv2"
   ]
  },
  {
   "cell_type": "code",
   "execution_count": 12,
   "metadata": {},
   "outputs": [],
   "source": [
    "# img_dir = '../images/'\n",
    "img_dir = '../4_images/'"
   ]
  },
  {
   "cell_type": "code",
   "execution_count": 13,
   "metadata": {},
   "outputs": [],
   "source": [
    "all_image_names = ['image_' + str(i) for i in range(118)]\n",
    "ext_dict = {\n",
    "    'og': 'original/',\n",
    "    'all': 'all_edges/',\n",
    "    '0': '0/',\n",
    "    '30': '30/',\n",
    "    '60': '60/',\n",
    "    '90': '90/',\n",
    "    '120': '120/',\n",
    "    '150': '150/'\n",
    "}\n",
    "orientation_angle_dict = {\n",
    "    '0': 0,  # 0 degrees\n",
    "    '30': np.pi / 6,  # 30 degrees\n",
    "    '60': np.pi / 3,  # 60 degrees\n",
    "    '90': np.pi / 2,  # 90 degrees\n",
    "    '120': 2 * np.pi / 3,  # 120 degrees\n",
    "    '150': 5 * np.pi / 6  # 150 degrees\n",
    "}\n",
    "orientations = [0, 30, 60, 90, 120, 150]"
   ]
  },
  {
   "cell_type": "code",
   "execution_count": 14,
   "metadata": {},
   "outputs": [],
   "source": [
    "def sum_intensity(img_path):\n",
    "    img = cv2.imread(img_path)\n",
    "    img = cv2.cvtColor(img, cv2.COLOR_BGR2GRAY)\n",
    "    img = img.flatten()\n",
    "    img = np.array(img)\n",
    "    img = img.astype('float32')\n",
    "    img /= 255\n",
    "    return img.mean()"
   ]
  },
  {
   "cell_type": "code",
   "execution_count": 15,
   "metadata": {},
   "outputs": [],
   "source": [
    "# Dict that maps each image to each orientation to each score\n",
    "edge_scores_dict = {}\n",
    "# For each image...\n",
    "for img in all_image_names:\n",
    "    if '57' in img or '61' in img or '81' in img or '44' in img:\n",
    "        # Initialize the edge score dict\n",
    "        edge_scores_dict[img] = {}\n",
    "        # Get path to output with all edges\n",
    "        all_edges_path = img_dir + ext_dict['all'] + str(img) + '.png'\n",
    "        # Populate edge score for all edges as baseline\n",
    "        all_edges_score = sum_intensity(all_edges_path)\n",
    "        edge_scores_dict[img]['all'] = all_edges_score\n",
    "        # For each orientation...\n",
    "        for o in orientations:\n",
    "            orientation = str(o)\n",
    "            # Get path to output with edges in this orientation\n",
    "            curr_orientation_path = img_dir + ext_dict[orientation] + str(img) + '.png'\n",
    "            # Compute score for this orientation\n",
    "            curr_orientation_score = sum_intensity(curr_orientation_path)\n",
    "            # Store in dict\n",
    "            edge_scores_dict[img][orientation] = curr_orientation_score"
   ]
  },
  {
   "cell_type": "code",
   "execution_count": 16,
   "metadata": {},
   "outputs": [
    {
     "data": {
      "text/plain": [
       "{'image_44': {'all': 0.009430916,\n",
       "  '0': 0.00051311456,\n",
       "  '30': 0.0003999139,\n",
       "  '60': 0.00055394106,\n",
       "  '90': 0.0008016835,\n",
       "  '120': 0.0013417065,\n",
       "  '150': 0.00095292705},\n",
       " 'image_57': {'all': 0.0072986605,\n",
       "  '0': 0.0018872967,\n",
       "  '30': 0.0003191888,\n",
       "  '60': 0.00033217907,\n",
       "  '90': 0.0003813564,\n",
       "  '120': 0.0008220968,\n",
       "  '150': 0.00082302466},\n",
       " 'image_61': {'all': 0.018846987,\n",
       "  '0': 0.000398986,\n",
       "  '30': 0.00067178113,\n",
       "  '60': 0.0011264395,\n",
       "  '90': 0.0016581117,\n",
       "  '120': 0.0035982972,\n",
       "  '150': 0.0020867896},\n",
       " 'image_81': {'all': 0.024785383,\n",
       "  '0': 0.0008749856,\n",
       "  '30': 0.0009102448,\n",
       "  '60': 0.0018817295,\n",
       "  '90': 0.007973225,\n",
       "  '120': 0.0014910942,\n",
       "  '150': 0.00055115746}}"
      ]
     },
     "execution_count": 16,
     "metadata": {},
     "output_type": "execute_result"
    }
   ],
   "source": [
    "edge_scores_dict"
   ]
  },
  {
   "cell_type": "code",
   "execution_count": 17,
   "metadata": {},
   "outputs": [],
   "source": [
    "# Normalize edge_scroes_dict \n",
    "normalized_edge_scores_dict = {}\n",
    "# For each image...\n",
    "for img in all_image_names:\n",
    "    if '57' in img or '61' in img or '81' in img or '44' in img:\n",
    "        # Initialize the edge score dict\n",
    "        normalized_edge_scores_dict[img] = {}\n",
    "        # Get score for all edges\n",
    "        all_edges_score = edge_scores_dict[img]['all']\n",
    "        # For each orientation...\n",
    "        for o in orientations:\n",
    "            orientation = str(o)\n",
    "            # Get score for this orientation\n",
    "            curr_orientation_score = edge_scores_dict[img][orientation]\n",
    "            # Normalize by all edges score\n",
    "            normalized_edge_scores_dict[img][orientation] = curr_orientation_score / all_edges_score"
   ]
  },
  {
   "cell_type": "code",
   "execution_count": 18,
   "metadata": {},
   "outputs": [],
   "source": [
    "# normalized_edge_scores_dict"
   ]
  },
  {
   "cell_type": "code",
   "execution_count": 19,
   "metadata": {},
   "outputs": [
    {
     "data": {
      "text/html": [
       "<div>\n",
       "<style scoped>\n",
       "    .dataframe tbody tr th:only-of-type {\n",
       "        vertical-align: middle;\n",
       "    }\n",
       "\n",
       "    .dataframe tbody tr th {\n",
       "        vertical-align: top;\n",
       "    }\n",
       "\n",
       "    .dataframe thead th {\n",
       "        text-align: right;\n",
       "    }\n",
       "</style>\n",
       "<table border=\"1\" class=\"dataframe\">\n",
       "  <thead>\n",
       "    <tr style=\"text-align: right;\">\n",
       "      <th></th>\n",
       "      <th>0</th>\n",
       "      <th>30</th>\n",
       "      <th>60</th>\n",
       "      <th>90</th>\n",
       "      <th>120</th>\n",
       "      <th>150</th>\n",
       "    </tr>\n",
       "  </thead>\n",
       "  <tbody>\n",
       "    <tr>\n",
       "      <th>image_44</th>\n",
       "      <td>0.054408</td>\n",
       "      <td>0.042405</td>\n",
       "      <td>0.058737</td>\n",
       "      <td>0.085006</td>\n",
       "      <td>0.142267</td>\n",
       "      <td>0.101043</td>\n",
       "    </tr>\n",
       "    <tr>\n",
       "      <th>image_57</th>\n",
       "      <td>0.258581</td>\n",
       "      <td>0.043733</td>\n",
       "      <td>0.045512</td>\n",
       "      <td>0.052250</td>\n",
       "      <td>0.112637</td>\n",
       "      <td>0.112764</td>\n",
       "    </tr>\n",
       "    <tr>\n",
       "      <th>image_61</th>\n",
       "      <td>0.021170</td>\n",
       "      <td>0.035644</td>\n",
       "      <td>0.059768</td>\n",
       "      <td>0.087978</td>\n",
       "      <td>0.190922</td>\n",
       "      <td>0.110723</td>\n",
       "    </tr>\n",
       "    <tr>\n",
       "      <th>image_81</th>\n",
       "      <td>0.035302</td>\n",
       "      <td>0.036725</td>\n",
       "      <td>0.075921</td>\n",
       "      <td>0.321691</td>\n",
       "      <td>0.060160</td>\n",
       "      <td>0.022237</td>\n",
       "    </tr>\n",
       "    <tr>\n",
       "      <th>mean</th>\n",
       "      <td>0.092365</td>\n",
       "      <td>0.039627</td>\n",
       "      <td>0.059984</td>\n",
       "      <td>0.136731</td>\n",
       "      <td>0.126496</td>\n",
       "      <td>0.086692</td>\n",
       "    </tr>\n",
       "    <tr>\n",
       "      <th>variance</th>\n",
       "      <td>0.009348</td>\n",
       "      <td>0.000012</td>\n",
       "      <td>0.000116</td>\n",
       "      <td>0.011600</td>\n",
       "      <td>0.002248</td>\n",
       "      <td>0.001404</td>\n",
       "    </tr>\n",
       "  </tbody>\n",
       "</table>\n",
       "</div>"
      ],
      "text/plain": [
       "               0         30        60        90        120       150\n",
       "image_44  0.054408  0.042405  0.058737  0.085006  0.142267  0.101043\n",
       "image_57  0.258581  0.043733  0.045512  0.052250  0.112637  0.112764\n",
       "image_61  0.021170  0.035644  0.059768  0.087978  0.190922  0.110723\n",
       "image_81  0.035302  0.036725  0.075921  0.321691  0.060160  0.022237\n",
       "mean      0.092365  0.039627  0.059984  0.136731  0.126496  0.086692\n",
       "variance  0.009348  0.000012  0.000116  0.011600  0.002248  0.001404"
      ]
     },
     "execution_count": 19,
     "metadata": {},
     "output_type": "execute_result"
    }
   ],
   "source": [
    "# Construct a dataframe from normalized_edge_scores_dict, where each row is an image and each column is an orientation\n",
    "import pandas as pd\n",
    "df = pd.DataFrame(normalized_edge_scores_dict)\n",
    "df = df.transpose()\n",
    "df.columns = orientations\n",
    "# add a row for the average of each column\n",
    "df.loc['mean'] = df.mean()\n",
    "df.loc['variance'] = df.var()\n",
    "df"
   ]
  },
  {
   "cell_type": "code",
   "execution_count": 20,
   "metadata": {},
   "outputs": [],
   "source": [
    "# save df to csv\n",
    "# df.to_csv('../data/normalized_edge_scores.csv')\n",
    "df.to_csv('../data/4_images_normalized_edge_scores.csv')"
   ]
  }
 ],
 "metadata": {
  "kernelspec": {
   "display_name": "base",
   "language": "python",
   "name": "python3"
  },
  "language_info": {
   "codemirror_mode": {
    "name": "ipython",
    "version": 3
   },
   "file_extension": ".py",
   "mimetype": "text/x-python",
   "name": "python",
   "nbconvert_exporter": "python",
   "pygments_lexer": "ipython3",
   "version": "3.10.11"
  }
 },
 "nbformat": 4,
 "nbformat_minor": 2
}
