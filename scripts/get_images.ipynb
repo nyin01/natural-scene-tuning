{
 "cells": [
  {
   "cell_type": "code",
   "execution_count": 5,
   "metadata": {},
   "outputs": [
    {
     "ename": "ModuleNotFoundError",
     "evalue": "No module named 'allensdk'",
     "output_type": "error",
     "traceback": [
      "\u001b[0;31m---------------------------------------------------------------------------\u001b[0m",
      "\u001b[0;31mModuleNotFoundError\u001b[0m                       Traceback (most recent call last)",
      "\u001b[1;32m/Users/yinzheng/Documents/GitHub/natural-scene-tuning/scripts/get_images.ipynb Cell 2\u001b[0m line \u001b[0;36m1\n\u001b[0;32m----> <a href='vscode-notebook-cell:/Users/yinzheng/Documents/GitHub/natural-scene-tuning/scripts/get_images.ipynb#W0sZmlsZQ%3D%3D?line=0'>1</a>\u001b[0m \u001b[39mfrom\u001b[39;00m \u001b[39mallensdk\u001b[39;00m\u001b[39m.\u001b[39;00m\u001b[39mcore\u001b[39;00m\u001b[39m.\u001b[39;00m\u001b[39mbrain_observatory_cache\u001b[39;00m \u001b[39mimport\u001b[39;00m BrainObservatoryCache\n\u001b[1;32m      <a href='vscode-notebook-cell:/Users/yinzheng/Documents/GitHub/natural-scene-tuning/scripts/get_images.ipynb#W0sZmlsZQ%3D%3D?line=1'>2</a>\u001b[0m \u001b[39mimport\u001b[39;00m \u001b[39mpandas\u001b[39;00m \u001b[39mas\u001b[39;00m \u001b[39mpd\u001b[39;00m\n\u001b[1;32m      <a href='vscode-notebook-cell:/Users/yinzheng/Documents/GitHub/natural-scene-tuning/scripts/get_images.ipynb#W0sZmlsZQ%3D%3D?line=2'>3</a>\u001b[0m \u001b[39mimport\u001b[39;00m \u001b[39mnumpy\u001b[39;00m \u001b[39mas\u001b[39;00m \u001b[39mnp\u001b[39;00m\n",
      "\u001b[0;31mModuleNotFoundError\u001b[0m: No module named 'allensdk'"
     ]
    }
   ],
   "source": [
    "import allensdk\n",
    "from allensdk.core.brain_observatory_cache import BrainObservatoryCache\n",
    "import pandas as pd\n",
    "import numpy as np\n",
    "import matplotlib.pyplot as plt"
   ]
  },
  {
   "cell_type": "code",
   "execution_count": null,
   "metadata": {},
   "outputs": [],
   "source": [
    "save_dir = 'images/original'"
   ]
  },
  {
   "cell_type": "code",
   "execution_count": null,
   "metadata": {},
   "outputs": [],
   "source": [
    "# Get the natural scene information\n",
    "natural_scene_table = experiment_data.get_stimulus_table('natural_scenes')\n",
    "natural_scene_template = experiment_data.get_stimulus_template(\n",
    "    'natural_scenes')\n",
    "sceneIDs = np.unique(natural_scene_table.frame)\n",
    "\n",
    "# Set up our figure\n",
    "fig, ax = plt.subplots(1, 5, figsize=(15, 6))\n",
    "\n",
    "for image_ID in range(5):  # Show the first 5 images\n",
    "\n",
    "    image_id = int(pref_counts.index[image_ID])  # Get the image ID\n",
    "\n",
    "    # Use imshow to visualize our numpy array\n",
    "    ax[image_ID].imshow(natural_scene_template[image_id, :, :], cmap='gray')\n",
    "    ax[image_ID].set_xticks([])\n",
    "    ax[image_ID].set_yticks([])\n",
    "    ax[image_ID].set_title('Image ' + str(image_id))\n",
    "\n",
    "plt.show()"
   ]
  }
 ],
 "metadata": {
  "kernelspec": {
   "display_name": "Python 3",
   "language": "python",
   "name": "python3"
  },
  "language_info": {
   "codemirror_mode": {
    "name": "ipython",
    "version": 3
   },
   "file_extension": ".py",
   "mimetype": "text/x-python",
   "name": "python",
   "nbconvert_exporter": "python",
   "pygments_lexer": "ipython3",
   "version": "3.10.11"
  }
 },
 "nbformat": 4,
 "nbformat_minor": 2
}
