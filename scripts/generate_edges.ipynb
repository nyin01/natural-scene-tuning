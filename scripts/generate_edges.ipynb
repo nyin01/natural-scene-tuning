{
 "cells": [
  {
   "cell_type": "code",
   "execution_count": 48,
   "metadata": {},
   "outputs": [],
   "source": [
    "import os\n",
    "import glob\n",
    "import numpy as np\n",
    "import cv2"
   ]
  },
  {
   "cell_type": "code",
   "execution_count": 49,
   "metadata": {},
   "outputs": [],
   "source": [
    "img_dir = '../images/'"
   ]
  },
  {
   "cell_type": "code",
   "execution_count": 50,
   "metadata": {},
   "outputs": [],
   "source": [
    "ext_dict = {\n",
    "    'og' : 'original/',\n",
    "    'all' : 'all_edges/',\n",
    "    'o1' : '0/',\n",
    "    'o2' : '30/',\n",
    "    'o3' : '60/',\n",
    "    'o4' : '90/',\n",
    "    'o5' : '120/',\n",
    "    'o6' : '150/'\n",
    "}"
   ]
  },
  {
   "cell_type": "code",
   "execution_count": 51,
   "metadata": {},
   "outputs": [],
   "source": [
    "orientation_angle_dict = {\n",
    "    'o1': 0, # 0 degrees\n",
    "    'o2': np.pi / 6, # 30 degrees\n",
    "    'o3': np.pi / 3, # 60 degrees\n",
    "    'o4': np.pi / 2, # 90 degrees\n",
    "    'o5': 2 * np.pi / 3, # 120 degrees\n",
    "    'o6': 5 * np.pi / 6 # 150 degrees\n",
    "}"
   ]
  },
  {
   "cell_type": "code",
   "execution_count": 52,
   "metadata": {},
   "outputs": [],
   "source": [
    "for ext in ext_dict.values():\n",
    "    if not os.path.exists(img_dir + ext):\n",
    "        os.makedirs(img_dir + ext)"
   ]
  },
  {
   "cell_type": "code",
   "execution_count": 53,
   "metadata": {},
   "outputs": [],
   "source": [
    "orientations = ['o1', 'o2', 'o3', 'o4', 'o5', 'o6']"
   ]
  },
  {
   "cell_type": "code",
   "execution_count": 54,
   "metadata": {},
   "outputs": [],
   "source": [
    "def get_paths(dir, image_type='png'):\n",
    "    \"\"\"\n",
    "    get the file name/path of all the files within a folder.\n",
    "        e.g. glob.glob(\"/home/adam/*/*.txt\").\n",
    "    Use glob.escape to escape strings that are not meant to be patterns\n",
    "        glob.glob(glob.escape(directory_name) + \"/*.txt\")\n",
    "    :param directory_name: (str) the root directory name that contains all the images we want\n",
    "    :param image: (str) either \"jpg\" or \"png\"\n",
    "    :return: a list of queried files and directories\n",
    "    \"\"\"\n",
    "    \n",
    "    end = \"/*.\" + image_type\n",
    "    file_paths = glob.glob(glob.escape(dir) + end)\n",
    "\n",
    "    # Sort the file paths numerically based on file names\n",
    "    sorted_file_paths = sorted(file_paths, key=lambda x: int(x.split('/')[-1].split('.')[0]))\n",
    "    \n",
    "    return sorted_file_paths"
   ]
  },
  {
   "cell_type": "code",
   "execution_count": 55,
   "metadata": {},
   "outputs": [],
   "source": [
    "originals = get_paths(img_dir + ext_dict['og'])"
   ]
  },
  {
   "cell_type": "code",
   "execution_count": 56,
   "metadata": {},
   "outputs": [],
   "source": [
    "# intensity thresholds \n",
    "t1 = 10\n",
    "t2 = 50\n",
    "# angle error threshold\n",
    "angle_error_threshold = np.pi / 12 # 15 degrees"
   ]
  },
  {
   "cell_type": "code",
   "execution_count": 57,
   "metadata": {},
   "outputs": [],
   "source": [
    "def generate_edge_by_orientation(all_edges, gradient_angle, orientation):\n",
    "    # Retrieve the orientation angle and the corresponding save ext\n",
    "    orientation_angle = orientation_angle_dict[orientation]\n",
    "    # subtract 90 degrees from the angle\n",
    "    orientation_angle -= np.pi / 2\n",
    "    # Compute orientation mask\n",
    "    edge_mask = np.logical_and(gradient_angle > orientation_angle - angle_error_threshold,\n",
    "                               gradient_angle < orientation_angle + angle_error_threshold)\n",
    "    # Apply mask and save result\n",
    "    result = all_edges.copy()\n",
    "    result[~edge_mask] = 0\n",
    "    cv2.imwrite(os.path.join(img_dir, ext_dict[o] + file_name), result)"
   ]
  },
  {
   "cell_type": "code",
   "execution_count": 58,
   "metadata": {},
   "outputs": [],
   "source": [
    "# counter for saving imgs\n",
    "i = 0\n",
    "# For each original image...\n",
    "for f in originals: \n",
    "    # Read image in greyscale\n",
    "    img = cv2.imread(f, cv2.IMREAD_GRAYSCALE)\n",
    "    assert img is not None, \"file could not be read, check with os.path.exists()\"\n",
    "    # Compute all edges and save result\n",
    "    all_edges = cv2.Canny(image=img, threshold1=t1, threshold2=t2)\n",
    "    file_name = str(i) + '.png'\n",
    "    cv2.imwrite(os.path.join(\n",
    "        img_dir, ext_dict['all'] + file_name), all_edges)\n",
    "    # Compute gradient angle using Sobel with kernel size 3\n",
    "    sobelx = cv2.Sobel(img, cv2.CV_64F, 1, 0, ksize=3)\n",
    "    sobely = cv2.Sobel(img, cv2.CV_64F, 0, 1, ksize=3)\n",
    "    gradient_angle = np.arctan2(sobely, sobelx)\n",
    "    # For each orientation...\n",
    "    for o in orientations:\n",
    "        # Generate edges and save result\n",
    "        generate_edge_by_orientation(all_edges, gradient_angle, o)\n",
    "    i += 1"
   ]
  },
  {
   "cell_type": "code",
   "execution_count": null,
   "metadata": {},
   "outputs": [],
   "source": []
  },
  {
   "cell_type": "code",
   "execution_count": null,
   "metadata": {},
   "outputs": [],
   "source": []
  },
  {
   "cell_type": "code",
   "execution_count": null,
   "metadata": {},
   "outputs": [],
   "source": []
  }
 ],
 "metadata": {
  "kernelspec": {
   "display_name": "base",
   "language": "python",
   "name": "python3"
  },
  "language_info": {
   "codemirror_mode": {
    "name": "ipython",
    "version": 3
   },
   "file_extension": ".py",
   "mimetype": "text/x-python",
   "name": "python",
   "nbconvert_exporter": "python",
   "pygments_lexer": "ipython3",
   "version": "3.10.11"
  }
 },
 "nbformat": 4,
 "nbformat_minor": 2
}
