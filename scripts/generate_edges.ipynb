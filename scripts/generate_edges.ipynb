{
 "cells": [
  {
   "cell_type": "code",
   "execution_count": 10,
   "metadata": {},
   "outputs": [],
   "source": [
    "import os\n",
    "import glob\n",
    "import numpy as np\n",
    "import cv2"
   ]
  },
  {
   "cell_type": "code",
   "execution_count": 11,
   "metadata": {},
   "outputs": [],
   "source": [
    "# img_dir = '../images/'\n",
    "img_dir = '../4_images/'"
   ]
  },
  {
   "cell_type": "code",
   "execution_count": 12,
   "metadata": {},
   "outputs": [],
   "source": [
    "all_image_names = ['image_' + str(i) for i in range(118)]\n",
    "ext_dict = {\n",
    "    'og': 'original/',\n",
    "    'all': 'all_edges/',\n",
    "    '0': '0/',\n",
    "    '30': '30/',\n",
    "    '60': '60/',\n",
    "    '90': '90/',\n",
    "    '120': '120/',\n",
    "    '150': '150/'\n",
    "}\n",
    "orientation_angle_dict = {\n",
    "    '0': 0,  # 0 degrees\n",
    "    '30': np.pi / 6,  # 30 degrees\n",
    "    '60': np.pi / 3,  # 60 degrees\n",
    "    '90': np.pi / 2,  # 90 degrees\n",
    "    '120': 2 * np.pi / 3,  # 120 degrees\n",
    "    '150': 5 * np.pi / 6  # 150 degrees\n",
    "}\n",
    "orientations = [0, 30, 60, 90, 120, 150]"
   ]
  },
  {
   "cell_type": "code",
   "execution_count": 13,
   "metadata": {},
   "outputs": [],
   "source": [
    "for ext in ext_dict.values():\n",
    "    if not os.path.exists(img_dir + ext):\n",
    "        os.makedirs(img_dir + ext)"
   ]
  },
  {
   "cell_type": "code",
   "execution_count": 14,
   "metadata": {},
   "outputs": [],
   "source": [
    "def get_paths(dir, image_type='png'):\n",
    "    \"\"\"\n",
    "    get the file name/path of all the files within a folder.\n",
    "        e.g. glob.glob(\"/home/adam/*/*.txt\").\n",
    "    Use glob.escape to escape strings that are not meant to be patterns\n",
    "        glob.glob(glob.escape(directory_name) + \"/*.txt\")\n",
    "    :param directory_name: (str) the root directory name that contains all the images we want\n",
    "    :param image: (str) either \"jpg\" or \"png\"\n",
    "    :return: a list of queried files and directories\n",
    "    \"\"\"\n",
    "    end = \"/*.\" + image_type\n",
    "    file_paths = glob.glob(glob.escape(dir) + end)\n",
    "    return file_paths"
   ]
  },
  {
   "cell_type": "code",
   "execution_count": 15,
   "metadata": {},
   "outputs": [],
   "source": [
    "originals = get_paths(img_dir + ext_dict['og'])"
   ]
  },
  {
   "cell_type": "code",
   "execution_count": 16,
   "metadata": {},
   "outputs": [],
   "source": [
    "# noise reduction threshold\n",
    "noise_threshold = 0.1\n",
    "gaussianblur_kernel_size = 13\n",
    "# intensity thresholds \n",
    "t1 = 50\n",
    "t2 = 100\n",
    "# angle error threshold\n",
    "angle_error_threshold = np.pi / 12 # 15 degrees"
   ]
  },
  {
   "cell_type": "code",
   "execution_count": 17,
   "metadata": {},
   "outputs": [],
   "source": [
    "def generate_edge_by_orientation(all_edges, gradient_angle, orientation):\n",
    "    # Retrieve the orientation angle and the corresponding save ext\n",
    "    orientation_angle = orientation_angle_dict[orientation]\n",
    "    # subtract 90 degrees from the angle\n",
    "    orientation_angle -= np.pi / 2\n",
    "    # Compute orientation mask\n",
    "    edge_mask = np.logical_and(gradient_angle > orientation_angle - angle_error_threshold,\n",
    "                               gradient_angle < orientation_angle + angle_error_threshold)\n",
    "    # Apply mask and save result\n",
    "    result = all_edges.copy()\n",
    "    result[~edge_mask] = 0\n",
    "    cv2.imwrite(os.path.join(img_dir, ext_dict[orientation] + file_name), result)"
   ]
  },
  {
   "cell_type": "code",
   "execution_count": 18,
   "metadata": {},
   "outputs": [],
   "source": [
    "# For each original image...\n",
    "for f in originals: \n",
    "    if '57' in f or '61' in f or '81' in f or '44' in f:\n",
    "        # Read image in greyscale\n",
    "        img = cv2.imread(f, cv2.IMREAD_GRAYSCALE)\n",
    "        assert img is not None, \"file could not be read, check with os.path.exists()\"\n",
    "        # Compute all edges and save result\n",
    "        blur = cv2.GaussianBlur(src=img, ksize=(gaussianblur_kernel_size, gaussianblur_kernel_size), sigmaX=0)\n",
    "        all_edges = cv2.Canny(image=blur, threshold1=t1, threshold2=t2, apertureSize=3)\n",
    "        # file_name = f[19:]\n",
    "        file_name = f[21:]\n",
    "        cv2.imwrite(os.path.join(img_dir, ext_dict['all'] + file_name), all_edges)\n",
    "        # Compute gradient angle using Sobel with kernel size 3\n",
    "        sobelx = cv2.Sobel(blur, cv2.CV_64F, 1, 0, ksize=3)\n",
    "        sobely = cv2.Sobel(blur, cv2.CV_64F, 0, 1, ksize=3)\n",
    "        gradient_angle = np.arctan2(sobely, sobelx)\n",
    "        # For each orientation...\n",
    "        for o in orientations:\n",
    "            orientation = str(o)\n",
    "            # Generate edges and save result\n",
    "            generate_edge_by_orientation(all_edges, gradient_angle, orientation)"
   ]
  },
  {
   "cell_type": "code",
   "execution_count": null,
   "metadata": {},
   "outputs": [],
   "source": []
  },
  {
   "cell_type": "code",
   "execution_count": null,
   "metadata": {},
   "outputs": [],
   "source": []
  }
 ],
 "metadata": {
  "kernelspec": {
   "display_name": "base",
   "language": "python",
   "name": "python3"
  },
  "language_info": {
   "codemirror_mode": {
    "name": "ipython",
    "version": 3
   },
   "file_extension": ".py",
   "mimetype": "text/x-python",
   "name": "python",
   "nbconvert_exporter": "python",
   "pygments_lexer": "ipython3",
   "version": "3.10.11"
  }
 },
 "nbformat": 4,
 "nbformat_minor": 2
}
