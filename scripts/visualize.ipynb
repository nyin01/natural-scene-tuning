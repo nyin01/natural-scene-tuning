{
 "cells": [
  {
   "cell_type": "code",
   "execution_count": 1,
   "metadata": {},
   "outputs": [],
   "source": [
    "# %pip install mayavi\n",
    "# %pip install PyQt5\n",
    "# %pip install mayavi nibabel\n",
    "# %pip install nilearn"
   ]
  },
  {
   "cell_type": "code",
   "execution_count": 2,
   "metadata": {},
   "outputs": [
    {
     "name": "stdout",
     "output_type": "stream",
     "text": [
      "********************************************************************************\n",
      "WARNING: Imported VTK version (9.3) does not match the one used\n",
      "         to build the TVTK classes (9.2). This may cause problems.\n",
      "         Please rebuild TVTK.\n",
      "********************************************************************************\n",
      "\n"
     ]
    },
    {
     "name": "stderr",
     "output_type": "stream",
     "text": [
      "/Library/Frameworks/Python.framework/Versions/3.7/lib/python3.7/site-packages/nilearn/__init__.py:67: FutureWarning: Python 3.7 support is deprecated and will be removed in release 0.12 of Nilearn. Consider switching to Python 3.9 or 3.10.\n",
      "  _python_deprecation_warnings()\n"
     ]
    }
   ],
   "source": [
    "import numpy as np\n",
    "import matplotlib.pyplot as plt\n",
    "from mayavi import mlab\n",
    "from allensdk.core.cell_types_cache import CellTypesCache\n",
    "import PyQt5.QtWidgets as qt\n",
    "import nibabel as nib\n",
    "import nilearn.plotting as plotting"
   ]
  },
  {
   "cell_type": "code",
   "execution_count": 3,
   "metadata": {},
   "outputs": [],
   "source": [
    "# Set the cell ID you want to visualize\n",
    "cell_id = 662202542  # Replace YOUR_CELL_ID with the actual cell ID\n",
    "\n",
    "# Download the 3D reconstruction data using the AllenSDK\n",
    "# Adjust the manifest_file path accordingly\n",
    "ctc = CellTypesCache(manifest_file='cell_types/manifest.json')\n",
    "# a list of cell metadata for cells with reconstructions, download if necessary\n",
    "cells = ctc.get_cells(require_reconstruction=True)\n",
    "# # open the electrophysiology data of one cell, download if necessary\n",
    "# data_set = ctc.get_ephys_data(cells[0]['id'])"
   ]
  },
  {
   "cell_type": "code",
   "execution_count": 4,
   "metadata": {},
   "outputs": [
    {
     "name": "stdout",
     "output_type": "stream",
     "text": [
      "485909730\n",
      "323865917\n",
      "476135066\n",
      "502614426\n",
      "519832676\n"
     ]
    }
   ],
   "source": [
    "# read the reconstruction from the first 100 cells\n",
    "reconstructions = []\n",
    "for cell in cells[0:5]:\n",
    "    print(cell['id'])\n",
    "    reconstructions.append(ctc.get_reconstruction(cell['id']))"
   ]
  },
  {
   "cell_type": "code",
   "execution_count": 5,
   "metadata": {},
   "outputs": [
    {
     "data": {
      "text/plain": [
       "dict_keys(['id', 'type', 'x', 'y', 'z', 'radius', 'parent', 'tree_id', 'children'])"
      ]
     },
     "execution_count": 5,
     "metadata": {},
     "output_type": "execute_result"
    }
   ],
   "source": [
    "# get location of the soma\n",
    "reconstructions[0].soma.keys()"
   ]
  },
  {
   "cell_type": "code",
   "execution_count": 11,
   "metadata": {},
   "outputs": [
    {
     "name": "stdout",
     "output_type": "stream",
     "text": [
      "(375.2331, 548.5594, 19.3472)\n",
      "(280.3944, 575.6608, 30.8)\n",
      "(405.6624, 431.7456, 21.84)\n",
      "(471.4424, 431.0592, 26.32)\n",
      "(475.8113, 605.4426, 51.0462)\n"
     ]
    },
    {
     "name": "stderr",
     "output_type": "stream",
     "text": [
      "libpng warning: iCCP: known incorrect sRGB profile\n"
     ]
    },
    {
     "ename": "",
     "evalue": "",
     "output_type": "error",
     "traceback": [
      "\u001b[1;31mThe Kernel crashed while executing code in the the current cell or a previous cell. Please review the code in the cell(s) to identify a possible cause of the failure. Click <a href='https://aka.ms/vscodeJupyterKernelCrash'>here</a> for more info. View Jupyter <a href='command:jupyter.viewOutput'>log</a> for further details."
     ]
    }
   ],
   "source": [
    "# Extract the 3D coordinates of each neuron\n",
    "soma_locations = []\n",
    "for reconstruction in reconstructions:\n",
    "    soma_location = reconstruction.soma['x'], reconstruction.soma['y'], reconstruction.soma['z']\n",
    "    soma_locations.append(soma_location)\n",
    "    print(soma_location)\n",
    "\n",
    "fig = mlab.figure(size=(800, 500))\n",
    "# Load the brain data using nibabel\n",
    "brain_data = nib.load('../data/MNI152_T1_1mm_brain.nii.gz')\n",
    "data_array = brain_data.get_fdata()\n",
    "# Center the brain data around the origin of the coordinate system\n",
    "centered_data_array = data_array - np.mean(data_array)\n",
    "# Create a 3D volume rendering of the brain data in the center\n",
    "source = mlab.pipeline.scalar_field(centered_data_array)\n",
    "# Create a 3D mesh of the brain\n",
    "mlab.pipeline.iso_surface(source, contours=[1000, ], opacity=0.3, colormap='gray')\n",
    "# convert the soma locations to be relative to the brain location\n",
    "soma_locations = np.array(soma_locations)\n",
    "# plot the soma locations as spheres\n",
    "for i in range(len(soma_locations)):\n",
    "    mlab.points3d(soma_locations[i, 0], soma_locations[i, 1], soma_locations[i, 2], scale_factor=20, color=(0, 0, 1))\n",
    "# plot the 3 axes\n",
    "mlab.outline()\n",
    "# Display the visualization\n",
    "mlab.show()"
   ]
  },
  {
   "cell_type": "code",
   "execution_count": 7,
   "metadata": {},
   "outputs": [
    {
     "name": "stdout",
     "output_type": "stream",
     "text": [
      "(182, 218, 182)\n"
     ]
    }
   ],
   "source": [
    "print(data_array.shape)"
   ]
  },
  {
   "cell_type": "code",
   "execution_count": null,
   "metadata": {},
   "outputs": [],
   "source": []
  }
 ],
 "metadata": {
  "kernelspec": {
   "display_name": "allensdk",
   "language": "python",
   "name": "allensdk"
  },
  "language_info": {
   "codemirror_mode": {
    "name": "ipython",
    "version": 3
   },
   "file_extension": ".py",
   "mimetype": "text/x-python",
   "name": "python",
   "nbconvert_exporter": "python",
   "pygments_lexer": "ipython3",
   "version": "3.7.9"
  }
 },
 "nbformat": 4,
 "nbformat_minor": 2
}
