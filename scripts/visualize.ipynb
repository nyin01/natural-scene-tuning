{
 "cells": [
  {
   "cell_type": "code",
   "execution_count": 1,
   "metadata": {},
   "outputs": [],
   "source": [
    "# %pip install mayavi\n",
    "# %pip install PyQt5\n",
    "# %pip install mayavi nibabel\n",
    "# %pip install nilearn"
   ]
  },
  {
   "cell_type": "code",
   "execution_count": 17,
   "metadata": {},
   "outputs": [],
   "source": [
    "import numpy as np\n",
    "import matplotlib.pyplot as plt\n",
    "from mayavi import mlab\n",
    "from allensdk.core.cell_types_cache import CellTypesCache\n",
    "import PyQt5.QtWidgets as qt\n",
    "import nibabel as nib\n",
    "import nilearn.plotting as plotting\n",
    "import os"
   ]
  },
  {
   "cell_type": "code",
   "execution_count": 18,
   "metadata": {},
   "outputs": [],
   "source": [
    "# Check if cells.json exists\n",
    "if not os.path.exists('cell_types/cells.json'):\n",
    "    # Download the 3D reconstruction data using the AllenSDK\n",
    "    ctc = CellTypesCache(manifest_file='cell_types/manifest.json')\n",
    "    # a list of cell metadata for cells with reconstructions, download if necessary\n",
    "    cells = ctc.get_cells(require_reconstruction=True)"
   ]
  },
  {
   "cell_type": "code",
   "execution_count": 4,
   "metadata": {},
   "outputs": [
    {
     "name": "stdout",
     "output_type": "stream",
     "text": [
      "485909730\n",
      "323865917\n",
      "476135066\n",
      "502614426\n",
      "519832676\n"
     ]
    }
   ],
   "source": [
    "# read the reconstruction from the first 100 cells\n",
    "reconstructions = []\n",
    "for cell in cells[0:5]:\n",
    "    print(cell['id'])\n",
    "    reconstructions.append(ctc.get_reconstruction(cell['id']))"
   ]
  },
  {
   "cell_type": "code",
   "execution_count": 19,
   "metadata": {},
   "outputs": [
    {
     "data": {
      "text/plain": [
       "dict_keys(['id', 'type', 'x', 'y', 'z', 'radius', 'parent', 'tree_id', 'children'])"
      ]
     },
     "execution_count": 19,
     "metadata": {},
     "output_type": "execute_result"
    }
   ],
   "source": [
    "# get location of the soma\n",
    "reconstructions[0].soma.keys()"
   ]
  },
  {
   "cell_type": "code",
   "execution_count": 20,
   "metadata": {},
   "outputs": [
    {
     "name": "stdout",
     "output_type": "stream",
     "text": [
      "(375.2331, 548.5594, 19.3472)\n",
      "(280.3944, 575.6608, 30.8)\n",
      "(405.6624, 431.7456, 21.84)\n",
      "(471.4424, 431.0592, 26.32)\n",
      "(475.8113, 605.4426, 51.0462)\n"
     ]
    }
   ],
   "source": [
    "# Extract the 3D coordinates of each neuron's soma\n",
    "soma_locations = []\n",
    "for reconstruction in reconstructions:\n",
    "    soma_location = (\n",
    "        reconstruction.soma['x'],\n",
    "        reconstruction.soma['y'],\n",
    "        reconstruction.soma['z']\n",
    "    )\n",
    "    soma_locations.append(soma_location)\n",
    "    print(soma_location)\n",
    "\n",
    "# Create a Mayavi figure\n",
    "fig = mlab.figure(size=(800, 500))\n",
    "\n",
    "# Load the brain data using nibabel\n",
    "brain_data = nib.load('../data/MNI152_T1_1mm_brain.nii.gz')\n",
    "data_array = brain_data.get_fdata()\n",
    "\n",
    "# Center the brain data around the origin of the coordinate system\n",
    "centered_data_array = data_array - np.mean(data_array)\n",
    "\n",
    "# Create a 3D volume rendering of the brain data in the center\n",
    "source = mlab.pipeline.scalar_field(centered_data_array)\n",
    "\n",
    "# Create a 3D mesh of the brain\n",
    "mlab.pipeline.iso_surface(\n",
    "    source, contours=[1000, ], opacity=0.3, colormap='gray')\n",
    "\n",
    "# Convert the soma locations to be relative to the brain location\n",
    "soma_locations = np.array(soma_locations)\n",
    "\n",
    "# Plot the soma locations as spheres\n",
    "for i in range(len(soma_locations)):\n",
    "    mlab.points3d(\n",
    "        soma_locations[i, 0],\n",
    "        soma_locations[i, 1],\n",
    "        soma_locations[i, 2],\n",
    "        scale_factor=20,\n",
    "        color=(0, 0, 1)\n",
    "    )\n",
    "\n",
    "# Plot the center of the coordinate system (origin)\n",
    "mlab.points3d(0, 0, 0, scale_factor=10, color=(1, 0, 0), mode='sphere')\n",
    "\n",
    "# Plot the 3 axes\n",
    "mlab.outline()\n",
    "\n",
    "# Display the visualization\n",
    "mlab.show()"
   ]
  },
  {
   "cell_type": "code",
   "execution_count": 7,
   "metadata": {},
   "outputs": [
    {
     "name": "stdout",
     "output_type": "stream",
     "text": [
      "(182, 218, 182)\n"
     ]
    }
   ],
   "source": [
    "print(data_array.shape)"
   ]
  },
  {
   "cell_type": "code",
   "execution_count": null,
   "metadata": {},
   "outputs": [],
   "source": []
  }
 ],
 "metadata": {
  "kernelspec": {
   "display_name": "allensdk",
   "language": "python",
   "name": "allensdk"
  },
  "language_info": {
   "codemirror_mode": {
    "name": "ipython",
    "version": 3
   },
   "file_extension": ".py",
   "mimetype": "text/x-python",
   "name": "python",
   "nbconvert_exporter": "python",
   "pygments_lexer": "ipython3",
   "version": "3.7.9"
  }
 },
 "nbformat": 4,
 "nbformat_minor": 2
}
